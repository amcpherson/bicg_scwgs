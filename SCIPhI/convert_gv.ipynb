{
 "cells": [
  {
   "cell_type": "code",
   "execution_count": 22,
   "id": "cbccb447",
   "metadata": {},
   "outputs": [
    {
     "name": "stderr",
     "output_type": "stream",
     "text": [
      "/Users/mcphera1/Projects/bicg_scwgs/SCIPhI/venv/lib/python3.7/site-packages/ipykernel_launcher.py:20: FutureWarning: The default value of regex will change from True to False in a future version.\n"
     ]
    }
   ],
   "source": [
    "\n",
    "import networkx\n",
    "import pydot\n",
    "import pandas as pd\n",
    "\n",
    "graph = pydot.graph_from_dot_file('exp_short.gv')[0]\n",
    "\n",
    "networkx_graph = networkx.drawing.nx_pydot.from_pydot(graph)\n",
    "\n",
    "node_data = []\n",
    "\n",
    "for node in networkx_graph.nodes:\n",
    "    node_data.append({'node': node, **networkx_graph.nodes[node]})\n",
    "\n",
    "node_data = pd.DataFrame(node_data)\n",
    "node_data['is_leaf'] = node_data['label'].str.contains('Patient_3_Cell_')\n",
    "node_data['label'] = node_data['label'].str.replace('\"', '')\n",
    "node_data['cell_id'] = None\n",
    "node_data.loc[node_data['is_leaf'], 'cell_id'] = (\n",
    "    node_data.loc[node_data['is_leaf'], 'label']\n",
    "    .str.replace(r'.bam\\\\n', ''))\n",
    "\n",
    "node_data.to_csv('exp_short_nodes.csv', index=False)\n"
   ]
  },
  {
   "cell_type": "code",
   "execution_count": 80,
   "id": "64cf2703",
   "metadata": {},
   "outputs": [],
   "source": [
    "\n",
    "# From: https://stackoverflow.com/questions/46444454/save-networkx-tree-in-newick-format\n",
    "\n",
    "leaves = set()\n",
    "\n",
    "def tree_to_newick(g, root=None):\n",
    "    if root is None:\n",
    "        roots = list(filter(lambda p: p[1] == 0, g.in_degree()))\n",
    "        assert 1 == len(roots)\n",
    "        root = roots[0][0]\n",
    "    subgs = []\n",
    "    for child in g[root]:\n",
    "        if len(g[child]) > 0:\n",
    "            subgs.append(tree_to_newick(g, root=child))\n",
    "        else:\n",
    "            leaves.add(child)\n",
    "            subgs.append(child)\n",
    "    return \"(\" + ','.join(subgs) + \")\" + root\n",
    "\n",
    "newick_str = tree_to_newick(networkx_graph) + ';'\n",
    "\n",
    "with open('exp_short_tree.newick', 'w') as f:\n",
    "    f.write(newick_str)\n"
   ]
  },
  {
   "cell_type": "code",
   "execution_count": null,
   "id": "7aad61f5",
   "metadata": {},
   "outputs": [],
   "source": []
  }
 ],
 "metadata": {
  "kernelspec": {
   "display_name": "Python 3",
   "language": "python",
   "name": "python3"
  },
  "language_info": {
   "codemirror_mode": {
    "name": "ipython",
    "version": 3
   },
   "file_extension": ".py",
   "mimetype": "text/x-python",
   "name": "python",
   "nbconvert_exporter": "python",
   "pygments_lexer": "ipython3",
   "version": "3.7.4"
  }
 },
 "nbformat": 4,
 "nbformat_minor": 5
}
